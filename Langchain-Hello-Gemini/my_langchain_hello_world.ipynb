{
  "nbformat": 4,
  "nbformat_minor": 0,
  "metadata": {
    "colab": {
      "provenance": [],
      "authorship_tag": "ABX9TyP4WYXYnxQrsjwljfv4YhIq",
      "include_colab_link": true
    },
    "kernelspec": {
      "name": "python3",
      "display_name": "Python 3"
    },
    "language_info": {
      "name": "python"
    }
  },
  "cells": [
    {
      "cell_type": "markdown",
      "metadata": {
        "id": "view-in-github",
        "colab_type": "text"
      },
      "source": [
        "<a href=\"https://colab.research.google.com/github/Habibrehman1996/Q2-Projects/blob/main/my_langchain_hello_world.ipynb\" target=\"_parent\"><img src=\"https://colab.research.google.com/assets/colab-badge.svg\" alt=\"Open In Colab\"/></a>"
      ]
    },
    {
      "cell_type": "code",
      "execution_count": 1,
      "metadata": {
        "colab": {
          "base_uri": "https://localhost:8080/"
        },
        "id": "RMi_dQUDWIdX",
        "outputId": "218cd57e-e02e-425d-9f1c-1ea2ce0e6bdf"
      },
      "outputs": [
        {
          "output_type": "stream",
          "name": "stdout",
          "text": [
            "\u001b[2K   \u001b[90m━━━━━━━━━━━━━━━━━━━━━━━━━━━━━━━━━━━━━━━━\u001b[0m \u001b[32m1.0/1.0 MB\u001b[0m \u001b[31m13.5 MB/s\u001b[0m eta \u001b[36m0:00:00\u001b[0m\n",
            "\u001b[2K   \u001b[90m━━━━━━━━━━━━━━━━━━━━━━━━━━━━━━━━━━━━━━━━\u001b[0m \u001b[32m41.3/41.3 kB\u001b[0m \u001b[31m1.8 MB/s\u001b[0m eta \u001b[36m0:00:00\u001b[0m\n",
            "\u001b[2K   \u001b[90m━━━━━━━━━━━━━━━━━━━━━━━━━━━━━━━━━━━━━━━━\u001b[0m \u001b[32m411.6/411.6 kB\u001b[0m \u001b[31m9.0 MB/s\u001b[0m eta \u001b[36m0:00:00\u001b[0m\n",
            "\u001b[?25h"
          ]
        }
      ],
      "source": [
        "!pip install -Uq langchain langchain-google-genai"
      ]
    },
    {
      "cell_type": "code",
      "source": [
        "import langchain_google_genai as genai"
      ],
      "metadata": {
        "id": "TATA46o_WrAa"
      },
      "execution_count": 2,
      "outputs": []
    },
    {
      "cell_type": "code",
      "source": [
        "from langchain_google_genai import ChatGoogleGenerativeAI"
      ],
      "metadata": {
        "id": "hNvpC4QYXGeQ"
      },
      "execution_count": 3,
      "outputs": []
    },
    {
      "cell_type": "code",
      "source": [
        "from google.colab import userdata\n",
        "GOOGLE_API_KEY = userdata.get('GOOGLE_API_KEY')"
      ],
      "metadata": {
        "id": "GKIAd0jyXdmY"
      },
      "execution_count": 4,
      "outputs": []
    },
    {
      "cell_type": "code",
      "source": [
        "llm : ChatGoogleGenerativeAI = ChatGoogleGenerativeAI (\n",
        "    model=\"gemini-2.0-flash-exp\",\n",
        "    api_key=GOOGLE_API_KEY,\n",
        ")\n",
        "\n",
        "response = llm.invoke(\"who is Imran Khan?\")\n",
        "print(response.content)"
      ],
      "metadata": {
        "colab": {
          "base_uri": "https://localhost:8080/"
        },
        "id": "CII-K-COXogj",
        "outputId": "b5dfbed7-d8f4-49b7-ab98-205c6dde4bed"
      },
      "execution_count": 5,
      "outputs": [
        {
          "output_type": "stream",
          "name": "stdout",
          "text": [
            "Imran Khan is a prominent Pakistani politician and former international cricketer. Here's a breakdown of his life and career:\n",
            "\n",
            "**Early Life and Cricket Career:**\n",
            "\n",
            "* **Born:** October 5, 1952, in Lahore, Pakistan.\n",
            "* **Cricket Legend:** He is widely regarded as one of the greatest all-rounders in cricket history. He captained the Pakistan national cricket team from 1982 to 1992.\n",
            "* **World Cup Victory:** He led Pakistan to their first and only Cricket World Cup victory in 1992.\n",
            "* **Charity Work:** Even before his political career, he was known for his philanthropic efforts, particularly in establishing the Shaukat Khanum Memorial Cancer Hospital and Research Centre, a state-of-the-art cancer hospital in Lahore, named after his mother.\n",
            "\n",
            "**Political Career:**\n",
            "\n",
            "* **Formation of PTI:** In 1996, he founded the Pakistan Tehreek-e-Insaf (PTI) party, which translates to \"Pakistan Movement for Justice.\"\n",
            "* **Anti-Corruption Platform:** PTI's initial platform focused on eradicating corruption, promoting justice, and establishing a more equitable society.\n",
            "* **Rise to Power:** After years of struggle and building a strong grassroots following, PTI gained significant traction, particularly among the youth.\n",
            "* **Prime Minister of Pakistan:** In the 2018 general election, PTI won a plurality of seats, and Imran Khan became the 22nd Prime Minister of Pakistan.\n",
            "* **Key Policies as PM:** Some of his key policies included:\n",
            "    * **Anti-Corruption Drive:** He launched a campaign against corruption, targeting both political opponents and powerful figures.\n",
            "    * **Economic Reforms:** He attempted to implement economic reforms aimed at stabilizing the Pakistani economy.\n",
            "    * **Social Welfare Programs:** He introduced programs focused on poverty alleviation and social welfare.\n",
            "    * **Foreign Policy:** He pursued a more independent foreign policy, often critical of Western influence.\n",
            "* **No-Confidence Vote and Ouster:** In April 2022, he was ousted from office through a no-confidence vote in the National Assembly.\n",
            "* **Current Political Status:** Since his ouster, he has remained a prominent opposition figure, leading mass rallies and protests. He has faced legal challenges and been critical of the current government.\n",
            "\n",
            "**Key Characteristics and Perceptions:**\n",
            "\n",
            "* **Charismatic Leader:** He is known for his charismatic personality and strong oratory skills, which have helped him connect with a large following.\n",
            "* **Populist Appeal:** He is often described as a populist leader, appealing to the common people and railing against the elite.\n",
            "* **Anti-Establishment Figure:** He has often positioned himself as an outsider challenging the traditional political establishment.\n",
            "* **Controversial Figure:** He is a highly controversial figure, with strong supporters and equally strong critics. His policies, actions, and rhetoric have been subject to intense scrutiny.\n",
            "\n",
            "**In Summary:**\n",
            "\n",
            "Imran Khan is a complex and influential figure in Pakistan. He is a celebrated cricket icon who transitioned into politics and became Prime Minister. His tenure was marked by ambitious reforms and significant challenges. He remains a significant political force in Pakistan, with a strong base of support and a controversial legacy.\n",
            "\n"
          ]
        }
      ]
    }
  ]
}